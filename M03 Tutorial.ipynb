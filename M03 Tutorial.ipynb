{
 "cells": [
  {
   "cell_type": "code",
   "execution_count": null,
   "id": "59067390-9d00-48e1-a46a-5fa49c4aeb8f",
   "metadata": {},
   "outputs": [],
   "source": [
    "# Sort arrays\n",
    "class Solution:\n",
    "    def sort012(self,arr,n):\n",
    "        low=0\n",
    "        high=n-1\n",
    "        mid=0\n",
    "        \n",
    "        while mid<=high:\n",
    "            \n",
    "            if arr[mid]==0:\n",
    "                arr[mid], arr[low] = arr[low], arr[mid]\n",
    "                mid += 1\n",
    "                low += 1\n",
    "                \n",
    "            elif arr[mid]==1:\n",
    "                mid += 1\n",
    "                \n",
    "            else:\n",
    "                arr[mid], arr[high] = arr[high], arr[mid]\n",
    "                high -+ 1"
   ]
  },
  {
   "cell_type": "code",
   "execution_count": null,
   "id": "afd67a47-8346-475e-8bc9-0dbfd02ba546",
   "metadata": {},
   "outputs": [],
   "source": []
  }
 ],
 "metadata": {
  "kernelspec": {
   "display_name": "Python 3 (ipykernel)",
   "language": "python",
   "name": "python3"
  },
  "language_info": {
   "codemirror_mode": {
    "name": "ipython",
    "version": 3
   },
   "file_extension": ".py",
   "mimetype": "text/x-python",
   "name": "python",
   "nbconvert_exporter": "python",
   "pygments_lexer": "ipython3",
   "version": "3.11.7"
  }
 },
 "nbformat": 4,
 "nbformat_minor": 5
}
